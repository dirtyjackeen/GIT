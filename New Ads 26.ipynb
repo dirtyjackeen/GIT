{
 "cells": [
  {
   "cell_type": "markdown",
   "metadata": {},
   "source": [
    "# Week 26 (25th June - 1st July 2018) - Number of New Ads"
   ]
  },
  {
   "cell_type": "code",
   "execution_count": 1,
   "metadata": {},
   "outputs": [],
   "source": [
    "#packages\n",
    "import pandas as pd\n",
    "import csv\n",
    "import matplotlib as plt\n",
    "import statsmodels.formula.api as smf\n",
    "import statsmodels.api as sm\n",
    "import numpy as np\n",
    "import seaborn as sns\n",
    "from statsmodels.formula.api import ols\n",
    "import glob\n",
    "import pycountry\n",
    "from datetime import datetime\n",
    "\n",
    "#chaning the number of columns that are displayed. get will tell you how much. \n",
    "pd.set_option(\"display.max_columns\",50)\n",
    "sns.set_style(\"whitegrid\")\n",
    "\n",
    "#currency converter\n",
    "from currency_converter import CurrencyConverter\n",
    "c = CurrencyConverter('http://www.ecb.int/stats/eurofxref/eurofxref-hist.zip')\n",
    "\n",
    "pd.options.mode.chained_assignment = None"
   ]
  },
  {
   "cell_type": "code",
   "execution_count": 2,
   "metadata": {},
   "outputs": [],
   "source": [
    "##### Cleaning\n",
    "\n",
    "df_raw=pd.read_excel(\"26_newads.xlsx\")\n",
    "\n",
    "#subsetting data\n",
    "df_newads=df_raw.loc[df_raw[\"insert_time\"]>=datetime(2018,6,25)]\n",
    "\n",
    "#dropping columns\n",
    "df_newads.drop(columns=[\"id\",\"status\",\"real_budget\",\"start_date\",\"end_date\",\"url\",\"ad_set_campaign_id\",\n",
    "                       \"margin_percentage\",\"facebook_ad_set_id\",\"facebook_ad_account_id\",\"facebook_business_id\",\n",
    "                       \"short_url\",\"ad_url_domain_id\"], inplace=True)\n",
    "\n",
    "df_newads[\"total\"]=1\n"
   ]
  },
  {
   "cell_type": "code",
   "execution_count": 3,
   "metadata": {},
   "outputs": [],
   "source": [
    "df_jeanine=df_newads.loc[df_newads[\"marketer_name\"]==\"Jeanine de Konnigh\"]\n",
    "df_abby=df_newads.loc[df_newads[\"marketer_name\"]==\"Abby Listerman\"]\n",
    "df_rob=df_newads.loc[df_newads[\"marketer_name\"]==\"Rob Ransome\"]\n",
    "df_eoin=df_newads.loc[df_newads[\"marketer_name\"]==\"Eoin Hennessy\"]\n",
    "df_mimmi=df_newads.loc[df_newads[\"marketer_name\"]==\"Mimmi Ångström\"]\n",
    "df_robin=df_newads.loc[df_newads[\"marketer_name\"]==\"Robin Ten Hove\"]\n",
    "df_onno=df_newads.loc[df_newads[\"marketer_name\"]==\"Onno Bossen\"]\n",
    "df_philip=df_newads.loc[df_newads[\"marketer_name\"]==\"Philip Snoey Kiwiet\"]\n",
    "df_marleen=df_newads.loc[df_newads[\"marketer_name\"]==\"Marleen Blokker\"]\n",
    "df_daniela=df_newads.loc[df_newads[\"marketer_name\"]==\"Daniela Jacobo Gallardo\"]\n",
    "df_sam=df_newads.loc[df_newads[\"marketer_name\"]==\"Sam Drentje\"]"
   ]
  },
  {
   "cell_type": "markdown",
   "metadata": {},
   "source": [
    "## Jeanine de Konnigh"
   ]
  },
  {
   "cell_type": "code",
   "execution_count": 4,
   "metadata": {},
   "outputs": [
    {
     "data": {
      "text/html": [
       "<div>\n",
       "<style scoped>\n",
       "    .dataframe tbody tr th:only-of-type {\n",
       "        vertical-align: middle;\n",
       "    }\n",
       "\n",
       "    .dataframe tbody tr th {\n",
       "        vertical-align: top;\n",
       "    }\n",
       "\n",
       "    .dataframe thead th {\n",
       "        text-align: right;\n",
       "    }\n",
       "</style>\n",
       "<table border=\"1\" class=\"dataframe\">\n",
       "  <thead>\n",
       "    <tr style=\"text-align: right;\">\n",
       "      <th></th>\n",
       "      <th>total</th>\n",
       "    </tr>\n",
       "    <tr>\n",
       "      <th>campaign_name</th>\n",
       "      <th></th>\n",
       "    </tr>\n",
       "  </thead>\n",
       "  <tbody>\n",
       "    <tr>\n",
       "      <th>Divina Pastora - Dental Insurance - Lead Ads</th>\n",
       "      <td>3</td>\n",
       "    </tr>\n",
       "    <tr>\n",
       "      <th>Intereno NL - LA Brochure Inspiratie</th>\n",
       "      <td>4</td>\n",
       "    </tr>\n",
       "    <tr>\n",
       "      <th>Intereno NL - LA Brochure Tips</th>\n",
       "      <td>3</td>\n",
       "    </tr>\n",
       "    <tr>\n",
       "      <th>Intereno NL - RSP</th>\n",
       "      <td>3</td>\n",
       "    </tr>\n",
       "    <tr>\n",
       "      <th>Intereno NL - RSP A/B test</th>\n",
       "      <td>6</td>\n",
       "    </tr>\n",
       "    <tr>\n",
       "      <th>Upstairs BENL - Lead Ads</th>\n",
       "      <td>4</td>\n",
       "    </tr>\n",
       "    <tr>\n",
       "      <th>Upstairs BENL - Lead ads - Cities</th>\n",
       "      <td>20</td>\n",
       "    </tr>\n",
       "    <tr>\n",
       "      <th>Upstairs BENL - QZ Renovatieprofiel v2 - B</th>\n",
       "      <td>4</td>\n",
       "    </tr>\n",
       "    <tr>\n",
       "      <th>Upstairs DE</th>\n",
       "      <td>4</td>\n",
       "    </tr>\n",
       "    <tr>\n",
       "      <th>Upstairs DE - Lead Ads</th>\n",
       "      <td>8</td>\n",
       "    </tr>\n",
       "    <tr>\n",
       "      <th>Verisure Services (UK) Limited</th>\n",
       "      <td>5</td>\n",
       "    </tr>\n",
       "  </tbody>\n",
       "</table>\n",
       "</div>"
      ],
      "text/plain": [
       "                                              total\n",
       "campaign_name                                      \n",
       "Divina Pastora - Dental Insurance - Lead Ads      3\n",
       "Intereno NL - LA Brochure Inspiratie              4\n",
       "Intereno NL - LA Brochure Tips                    3\n",
       "Intereno NL - RSP                                 3\n",
       "Intereno NL - RSP A/B test                        6\n",
       "Upstairs BENL - Lead Ads                          4\n",
       "Upstairs BENL - Lead ads - Cities                20\n",
       "Upstairs BENL - QZ Renovatieprofiel v2 - B        4\n",
       "Upstairs DE                                       4\n",
       "Upstairs DE - Lead Ads                            8\n",
       "Verisure Services (UK) Limited                    5"
      ]
     },
     "execution_count": 4,
     "metadata": {},
     "output_type": "execute_result"
    }
   ],
   "source": [
    "df_jeanine=df_jeanine.groupby(by=['campaign_name']).sum()\n",
    "df_jeanine=df_jeanine[[\"total\"]]\n",
    "df_jeanine"
   ]
  },
  {
   "cell_type": "markdown",
   "metadata": {},
   "source": [
    "## Abby Listerman"
   ]
  },
  {
   "cell_type": "code",
   "execution_count": 5,
   "metadata": {},
   "outputs": [
    {
     "data": {
      "text/html": [
       "<div>\n",
       "<style scoped>\n",
       "    .dataframe tbody tr th:only-of-type {\n",
       "        vertical-align: middle;\n",
       "    }\n",
       "\n",
       "    .dataframe tbody tr th {\n",
       "        vertical-align: top;\n",
       "    }\n",
       "\n",
       "    .dataframe thead th {\n",
       "        text-align: right;\n",
       "    }\n",
       "</style>\n",
       "<table border=\"1\" class=\"dataframe\">\n",
       "  <thead>\n",
       "    <tr style=\"text-align: right;\">\n",
       "      <th></th>\n",
       "      <th>total</th>\n",
       "    </tr>\n",
       "    <tr>\n",
       "      <th>campaign_name</th>\n",
       "      <th></th>\n",
       "    </tr>\n",
       "  </thead>\n",
       "  <tbody>\n",
       "    <tr>\n",
       "      <th>Greenpeace Taiwan - Antarctic</th>\n",
       "      <td>1</td>\n",
       "    </tr>\n",
       "    <tr>\n",
       "      <th>Save the Children Australia</th>\n",
       "      <td>7</td>\n",
       "    </tr>\n",
       "    <tr>\n",
       "      <th>UNHCR Australia</th>\n",
       "      <td>1</td>\n",
       "    </tr>\n",
       "  </tbody>\n",
       "</table>\n",
       "</div>"
      ],
      "text/plain": [
       "                               total\n",
       "campaign_name                       \n",
       "Greenpeace Taiwan - Antarctic      1\n",
       "Save the Children Australia        7\n",
       "UNHCR Australia                    1"
      ]
     },
     "execution_count": 5,
     "metadata": {},
     "output_type": "execute_result"
    }
   ],
   "source": [
    "df_abby=df_abby.groupby(by=['campaign_name']).sum()\n",
    "df_abby=df_abby[[\"total\"]]\n",
    "df_abby"
   ]
  },
  {
   "cell_type": "markdown",
   "metadata": {},
   "source": [
    "## Rob Ransome"
   ]
  },
  {
   "cell_type": "code",
   "execution_count": 6,
   "metadata": {},
   "outputs": [
    {
     "data": {
      "text/html": [
       "<div>\n",
       "<style scoped>\n",
       "    .dataframe tbody tr th:only-of-type {\n",
       "        vertical-align: middle;\n",
       "    }\n",
       "\n",
       "    .dataframe tbody tr th {\n",
       "        vertical-align: top;\n",
       "    }\n",
       "\n",
       "    .dataframe thead th {\n",
       "        text-align: right;\n",
       "    }\n",
       "</style>\n",
       "<table border=\"1\" class=\"dataframe\">\n",
       "  <thead>\n",
       "    <tr style=\"text-align: right;\">\n",
       "      <th></th>\n",
       "      <th>total</th>\n",
       "    </tr>\n",
       "    <tr>\n",
       "      <th>campaign_name</th>\n",
       "      <th></th>\n",
       "    </tr>\n",
       "  </thead>\n",
       "  <tbody>\n",
       "    <tr>\n",
       "      <th>AudicaoActiva PT - MIC - Lead Ads - New</th>\n",
       "      <td>5</td>\n",
       "    </tr>\n",
       "    <tr>\n",
       "      <th>Belsono - Belsono Hearing Centers - Experience/Demo</th>\n",
       "      <td>2</td>\n",
       "    </tr>\n",
       "    <tr>\n",
       "      <th>Belsono - Hearing Health - Free Evaluation</th>\n",
       "      <td>7</td>\n",
       "    </tr>\n",
       "    <tr>\n",
       "      <th>Bloom Hearing UK - EVOKE</th>\n",
       "      <td>4</td>\n",
       "    </tr>\n",
       "    <tr>\n",
       "      <th>Bloom Hearing UK - beyond - RSP v2</th>\n",
       "      <td>2</td>\n",
       "    </tr>\n",
       "    <tr>\n",
       "      <th>Bloom Hearing UK - beyond RSP - City ads</th>\n",
       "      <td>71</td>\n",
       "    </tr>\n",
       "    <tr>\n",
       "      <th>Crateful</th>\n",
       "      <td>2</td>\n",
       "    </tr>\n",
       "    <tr>\n",
       "      <th>Helix Hearing Care - QZ V1</th>\n",
       "      <td>3</td>\n",
       "    </tr>\n",
       "    <tr>\n",
       "      <th>Vitakustik IIC</th>\n",
       "      <td>3</td>\n",
       "    </tr>\n",
       "    <tr>\n",
       "      <th>Vitakustik IIC - Lead Ads</th>\n",
       "      <td>3</td>\n",
       "    </tr>\n",
       "    <tr>\n",
       "      <th>Widex Brazil- Rio de Janeiro</th>\n",
       "      <td>4</td>\n",
       "    </tr>\n",
       "    <tr>\n",
       "      <th>Widex Brazil- Sao Paulo</th>\n",
       "      <td>4</td>\n",
       "    </tr>\n",
       "  </tbody>\n",
       "</table>\n",
       "</div>"
      ],
      "text/plain": [
       "                                                    total\n",
       "campaign_name                                            \n",
       "AudicaoActiva PT - MIC - Lead Ads - New                 5\n",
       "Belsono - Belsono Hearing Centers - Experience/...      2\n",
       "Belsono - Hearing Health - Free Evaluation              7\n",
       "Bloom Hearing UK - EVOKE                                4\n",
       "Bloom Hearing UK - beyond - RSP v2                      2\n",
       "Bloom Hearing UK - beyond RSP - City ads               71\n",
       "Crateful                                                2\n",
       "Helix Hearing Care - QZ V1                              3\n",
       "Vitakustik IIC                                          3\n",
       "Vitakustik IIC - Lead Ads                               3\n",
       "Widex Brazil- Rio de Janeiro                            4\n",
       "Widex Brazil- Sao Paulo                                 4"
      ]
     },
     "execution_count": 6,
     "metadata": {},
     "output_type": "execute_result"
    }
   ],
   "source": [
    "df_rob=df_rob.groupby(by=['campaign_name']).sum()\n",
    "df_rob=df_rob[[\"total\"]]\n",
    "df_rob"
   ]
  },
  {
   "cell_type": "markdown",
   "metadata": {},
   "source": [
    "## Eoin Hennessy"
   ]
  },
  {
   "cell_type": "code",
   "execution_count": 7,
   "metadata": {},
   "outputs": [
    {
     "data": {
      "text/html": [
       "<div>\n",
       "<style scoped>\n",
       "    .dataframe tbody tr th:only-of-type {\n",
       "        vertical-align: middle;\n",
       "    }\n",
       "\n",
       "    .dataframe tbody tr th {\n",
       "        vertical-align: top;\n",
       "    }\n",
       "\n",
       "    .dataframe thead th {\n",
       "        text-align: right;\n",
       "    }\n",
       "</style>\n",
       "<table border=\"1\" class=\"dataframe\">\n",
       "  <thead>\n",
       "    <tr style=\"text-align: right;\">\n",
       "      <th></th>\n",
       "      <th>total</th>\n",
       "    </tr>\n",
       "    <tr>\n",
       "      <th>campaign_name</th>\n",
       "      <th></th>\n",
       "    </tr>\n",
       "  </thead>\n",
       "  <tbody>\n",
       "    <tr>\n",
       "      <th>Blackberry Hearing</th>\n",
       "      <td>8</td>\n",
       "    </tr>\n",
       "  </tbody>\n",
       "</table>\n",
       "</div>"
      ],
      "text/plain": [
       "                    total\n",
       "campaign_name            \n",
       "Blackberry Hearing      8"
      ]
     },
     "execution_count": 7,
     "metadata": {},
     "output_type": "execute_result"
    }
   ],
   "source": [
    "df_eoin=df_eoin.groupby(by=['campaign_name']).sum()\n",
    "df_eoin=df_eoin[[\"total\"]]\n",
    "df_eoin"
   ]
  },
  {
   "cell_type": "markdown",
   "metadata": {},
   "source": [
    "## Mimmi Ångström"
   ]
  },
  {
   "cell_type": "code",
   "execution_count": 8,
   "metadata": {},
   "outputs": [
    {
     "data": {
      "text/html": [
       "<div>\n",
       "<style scoped>\n",
       "    .dataframe tbody tr th:only-of-type {\n",
       "        vertical-align: middle;\n",
       "    }\n",
       "\n",
       "    .dataframe tbody tr th {\n",
       "        vertical-align: top;\n",
       "    }\n",
       "\n",
       "    .dataframe thead th {\n",
       "        text-align: right;\n",
       "    }\n",
       "</style>\n",
       "<table border=\"1\" class=\"dataframe\">\n",
       "  <thead>\n",
       "    <tr style=\"text-align: right;\">\n",
       "      <th></th>\n",
       "      <th>total</th>\n",
       "    </tr>\n",
       "    <tr>\n",
       "      <th>campaign_name</th>\n",
       "      <th></th>\n",
       "    </tr>\n",
       "  </thead>\n",
       "  <tbody>\n",
       "    <tr>\n",
       "      <th>Make A Wish Australia</th>\n",
       "      <td>16</td>\n",
       "    </tr>\n",
       "    <tr>\n",
       "      <th>Victor Chang Institute Australia petition</th>\n",
       "      <td>2</td>\n",
       "    </tr>\n",
       "    <tr>\n",
       "      <th>WDC Whales and Dolphins - UK</th>\n",
       "      <td>1</td>\n",
       "    </tr>\n",
       "  </tbody>\n",
       "</table>\n",
       "</div>"
      ],
      "text/plain": [
       "                                           total\n",
       "campaign_name                                   \n",
       "Make A Wish Australia                         16\n",
       "Victor Chang Institute Australia petition      2\n",
       "WDC Whales and Dolphins - UK                   1"
      ]
     },
     "execution_count": 8,
     "metadata": {},
     "output_type": "execute_result"
    }
   ],
   "source": [
    "df_mimmi=df_mimmi.groupby(by=['campaign_name']).sum()\n",
    "df_mimmi=df_mimmi[[\"total\"]]\n",
    "df_mimmi"
   ]
  },
  {
   "cell_type": "markdown",
   "metadata": {},
   "source": [
    "## Robin Ten Hove"
   ]
  },
  {
   "cell_type": "code",
   "execution_count": 9,
   "metadata": {},
   "outputs": [
    {
     "data": {
      "text/html": [
       "<div>\n",
       "<style scoped>\n",
       "    .dataframe tbody tr th:only-of-type {\n",
       "        vertical-align: middle;\n",
       "    }\n",
       "\n",
       "    .dataframe tbody tr th {\n",
       "        vertical-align: top;\n",
       "    }\n",
       "\n",
       "    .dataframe thead th {\n",
       "        text-align: right;\n",
       "    }\n",
       "</style>\n",
       "<table border=\"1\" class=\"dataframe\">\n",
       "  <thead>\n",
       "    <tr style=\"text-align: right;\">\n",
       "      <th></th>\n",
       "      <th>total</th>\n",
       "    </tr>\n",
       "    <tr>\n",
       "      <th>campaign_name</th>\n",
       "      <th></th>\n",
       "    </tr>\n",
       "  </thead>\n",
       "  <tbody>\n",
       "    <tr>\n",
       "      <th>AudioNova BEFR - White label IIC</th>\n",
       "      <td>3</td>\n",
       "    </tr>\n",
       "    <tr>\n",
       "      <th>AudioNova BENL - QZ V3 IIC - General</th>\n",
       "      <td>9</td>\n",
       "    </tr>\n",
       "    <tr>\n",
       "      <th>AudioNova DK - Moxi Now QZ - Cities</th>\n",
       "      <td>30</td>\n",
       "    </tr>\n",
       "    <tr>\n",
       "      <th>AudioNova IT - Luna C - RSP - Regular</th>\n",
       "      <td>3</td>\n",
       "    </tr>\n",
       "    <tr>\n",
       "      <th>AudioNova IT - Luna C - RSP - Regular - Split test</th>\n",
       "      <td>3</td>\n",
       "    </tr>\n",
       "    <tr>\n",
       "      <th>GEERS DE - IIC QZ V3 - New - Regular</th>\n",
       "      <td>7</td>\n",
       "    </tr>\n",
       "    <tr>\n",
       "      <th>GEERS PL - Luna R-R - QZ - Split test</th>\n",
       "      <td>3</td>\n",
       "    </tr>\n",
       "    <tr>\n",
       "      <th>HelloFresh BEFR - Italiaanse Keukenquiz - algemeen</th>\n",
       "      <td>5</td>\n",
       "    </tr>\n",
       "    <tr>\n",
       "      <th>HelloFresh BEFR - Kookenquête Vakantiepark</th>\n",
       "      <td>5</td>\n",
       "    </tr>\n",
       "    <tr>\n",
       "      <th>HelloFresh BEFR - Prijzenrad KitchenAid 449</th>\n",
       "      <td>4</td>\n",
       "    </tr>\n",
       "    <tr>\n",
       "      <th>HelloFresh BENL - Prijzenrad KitchenAid 449</th>\n",
       "      <td>4</td>\n",
       "    </tr>\n",
       "    <tr>\n",
       "      <th>HelloFresh BENL - Raad de Pasta</th>\n",
       "      <td>4</td>\n",
       "    </tr>\n",
       "    <tr>\n",
       "      <th>HelloFresh DE - Tester gesucht V2 - B</th>\n",
       "      <td>2</td>\n",
       "    </tr>\n",
       "    <tr>\n",
       "      <th>HelloFresh NL - Kookenquête Nespresso</th>\n",
       "      <td>1</td>\n",
       "    </tr>\n",
       "    <tr>\n",
       "      <th>Miracle Ear Genius 3.0</th>\n",
       "      <td>4</td>\n",
       "    </tr>\n",
       "    <tr>\n",
       "      <th>Schoonenberg - Luna 9 - QZ V5 - B</th>\n",
       "      <td>1</td>\n",
       "    </tr>\n",
       "  </tbody>\n",
       "</table>\n",
       "</div>"
      ],
      "text/plain": [
       "                                                    total\n",
       "campaign_name                                            \n",
       "AudioNova BEFR - White label IIC                        3\n",
       "AudioNova BENL - QZ V3 IIC - General                    9\n",
       "AudioNova DK - Moxi Now QZ - Cities                    30\n",
       "AudioNova IT - Luna C - RSP - Regular                   3\n",
       "AudioNova IT - Luna C - RSP - Regular - Split test      3\n",
       "GEERS DE - IIC QZ V3 - New - Regular                    7\n",
       "GEERS PL - Luna R-R - QZ - Split test                   3\n",
       "HelloFresh BEFR - Italiaanse Keukenquiz - algemeen      5\n",
       "HelloFresh BEFR - Kookenquête Vakantiepark              5\n",
       "HelloFresh BEFR - Prijzenrad KitchenAid 449             4\n",
       "HelloFresh BENL - Prijzenrad KitchenAid 449             4\n",
       "HelloFresh BENL - Raad de Pasta                         4\n",
       "HelloFresh DE - Tester gesucht V2 - B                   2\n",
       "HelloFresh NL - Kookenquête Nespresso                   1\n",
       "Miracle Ear Genius 3.0                                  4\n",
       "Schoonenberg - Luna 9 - QZ V5 - B                       1"
      ]
     },
     "execution_count": 9,
     "metadata": {},
     "output_type": "execute_result"
    }
   ],
   "source": [
    "df_robin=df_robin.groupby(by=['campaign_name']).sum()\n",
    "df_robin=df_robin[[\"total\"]]\n",
    "df_robin"
   ]
  },
  {
   "cell_type": "markdown",
   "metadata": {},
   "source": [
    "## Onno Bossen"
   ]
  },
  {
   "cell_type": "code",
   "execution_count": 10,
   "metadata": {},
   "outputs": [
    {
     "data": {
      "text/html": [
       "<div>\n",
       "<style scoped>\n",
       "    .dataframe tbody tr th:only-of-type {\n",
       "        vertical-align: middle;\n",
       "    }\n",
       "\n",
       "    .dataframe tbody tr th {\n",
       "        vertical-align: top;\n",
       "    }\n",
       "\n",
       "    .dataframe thead th {\n",
       "        text-align: right;\n",
       "    }\n",
       "</style>\n",
       "<table border=\"1\" class=\"dataframe\">\n",
       "  <thead>\n",
       "    <tr style=\"text-align: right;\">\n",
       "      <th></th>\n",
       "      <th>total</th>\n",
       "    </tr>\n",
       "    <tr>\n",
       "      <th>campaign_name</th>\n",
       "      <th></th>\n",
       "    </tr>\n",
       "  </thead>\n",
       "  <tbody>\n",
       "    <tr>\n",
       "      <th>Medicare Angola NA PT</th>\n",
       "      <td>1</td>\n",
       "    </tr>\n",
       "    <tr>\n",
       "      <th>Medicare Dental Testers PT NA</th>\n",
       "      <td>3</td>\n",
       "    </tr>\n",
       "    <tr>\n",
       "      <th>Medicare Familia PT NA</th>\n",
       "      <td>3</td>\n",
       "    </tr>\n",
       "    <tr>\n",
       "      <th>Medicare Familia PT NA - V2</th>\n",
       "      <td>7</td>\n",
       "    </tr>\n",
       "    <tr>\n",
       "      <th>Medicare PT - Dental - Lead Ads</th>\n",
       "      <td>7</td>\n",
       "    </tr>\n",
       "    <tr>\n",
       "      <th>Medicare Vetecare - Lead Ads</th>\n",
       "      <td>2</td>\n",
       "    </tr>\n",
       "    <tr>\n",
       "      <th>Melhor Alarme PT - NA</th>\n",
       "      <td>2</td>\n",
       "    </tr>\n",
       "    <tr>\n",
       "      <th>Optical Express DE</th>\n",
       "      <td>2</td>\n",
       "    </tr>\n",
       "    <tr>\n",
       "      <th>Optical Express DE - Cities</th>\n",
       "      <td>9</td>\n",
       "    </tr>\n",
       "    <tr>\n",
       "      <th>Prescan NL - V2 Budget Optimization</th>\n",
       "      <td>6</td>\n",
       "    </tr>\n",
       "  </tbody>\n",
       "</table>\n",
       "</div>"
      ],
      "text/plain": [
       "                                     total\n",
       "campaign_name                             \n",
       "Medicare Angola NA PT                    1\n",
       "Medicare Dental Testers PT NA            3\n",
       "Medicare Familia PT NA                   3\n",
       "Medicare Familia PT NA - V2              7\n",
       "Medicare PT - Dental - Lead Ads          7\n",
       "Medicare Vetecare - Lead Ads             2\n",
       "Melhor Alarme PT - NA                    2\n",
       "Optical Express DE                       2\n",
       "Optical Express DE - Cities              9\n",
       "Prescan NL - V2 Budget Optimization      6"
      ]
     },
     "execution_count": 10,
     "metadata": {},
     "output_type": "execute_result"
    }
   ],
   "source": [
    "df_onno=df_onno.groupby(by=['campaign_name']).sum()\n",
    "df_onno=df_onno[[\"total\"]]\n",
    "df_onno"
   ]
  },
  {
   "cell_type": "markdown",
   "metadata": {},
   "source": [
    "## Philip Snoey Kiwiet"
   ]
  },
  {
   "cell_type": "code",
   "execution_count": 11,
   "metadata": {},
   "outputs": [
    {
     "data": {
      "text/html": [
       "<div>\n",
       "<style scoped>\n",
       "    .dataframe tbody tr th:only-of-type {\n",
       "        vertical-align: middle;\n",
       "    }\n",
       "\n",
       "    .dataframe tbody tr th {\n",
       "        vertical-align: top;\n",
       "    }\n",
       "\n",
       "    .dataframe thead th {\n",
       "        text-align: right;\n",
       "    }\n",
       "</style>\n",
       "<table border=\"1\" class=\"dataframe\">\n",
       "  <thead>\n",
       "    <tr style=\"text-align: right;\">\n",
       "      <th></th>\n",
       "      <th>total</th>\n",
       "    </tr>\n",
       "    <tr>\n",
       "      <th>campaign_name</th>\n",
       "      <th></th>\n",
       "    </tr>\n",
       "  </thead>\n",
       "  <tbody>\n",
       "    <tr>\n",
       "      <th>Akoustica Medica</th>\n",
       "      <td>4</td>\n",
       "    </tr>\n",
       "  </tbody>\n",
       "</table>\n",
       "</div>"
      ],
      "text/plain": [
       "                  total\n",
       "campaign_name          \n",
       "Akoustica Medica      4"
      ]
     },
     "execution_count": 11,
     "metadata": {},
     "output_type": "execute_result"
    }
   ],
   "source": [
    "df_philip=df_philip.groupby(by=['campaign_name']).sum()\n",
    "df_philip=df_philip[[\"total\"]]\n",
    "df_philip"
   ]
  },
  {
   "cell_type": "markdown",
   "metadata": {},
   "source": [
    "## Marleen Blokker"
   ]
  },
  {
   "cell_type": "code",
   "execution_count": 12,
   "metadata": {},
   "outputs": [
    {
     "data": {
      "text/html": [
       "<div>\n",
       "<style scoped>\n",
       "    .dataframe tbody tr th:only-of-type {\n",
       "        vertical-align: middle;\n",
       "    }\n",
       "\n",
       "    .dataframe tbody tr th {\n",
       "        vertical-align: top;\n",
       "    }\n",
       "\n",
       "    .dataframe thead th {\n",
       "        text-align: right;\n",
       "    }\n",
       "</style>\n",
       "<table border=\"1\" class=\"dataframe\">\n",
       "  <thead>\n",
       "    <tr style=\"text-align: right;\">\n",
       "      <th></th>\n",
       "      <th>total</th>\n",
       "    </tr>\n",
       "    <tr>\n",
       "      <th>campaign_name</th>\n",
       "      <th></th>\n",
       "    </tr>\n",
       "  </thead>\n",
       "  <tbody>\n",
       "    <tr>\n",
       "      <th>Stichting Vluchteling NL - Steun</th>\n",
       "      <td>4</td>\n",
       "    </tr>\n",
       "  </tbody>\n",
       "</table>\n",
       "</div>"
      ],
      "text/plain": [
       "                                  total\n",
       "campaign_name                          \n",
       "Stichting Vluchteling NL - Steun      4"
      ]
     },
     "execution_count": 12,
     "metadata": {},
     "output_type": "execute_result"
    }
   ],
   "source": [
    "df_marleen=df_marleen.groupby(by=['campaign_name']).sum()\n",
    "df_marleen=df_marleen[[\"total\"]]\n",
    "df_marleen"
   ]
  },
  {
   "cell_type": "markdown",
   "metadata": {},
   "source": [
    "## Daniela Jacobo Gallardo"
   ]
  },
  {
   "cell_type": "code",
   "execution_count": 13,
   "metadata": {},
   "outputs": [
    {
     "data": {
      "text/html": [
       "<div>\n",
       "<style scoped>\n",
       "    .dataframe tbody tr th:only-of-type {\n",
       "        vertical-align: middle;\n",
       "    }\n",
       "\n",
       "    .dataframe tbody tr th {\n",
       "        vertical-align: top;\n",
       "    }\n",
       "\n",
       "    .dataframe thead th {\n",
       "        text-align: right;\n",
       "    }\n",
       "</style>\n",
       "<table border=\"1\" class=\"dataframe\">\n",
       "  <thead>\n",
       "    <tr style=\"text-align: right;\">\n",
       "      <th></th>\n",
       "      <th>total</th>\n",
       "    </tr>\n",
       "    <tr>\n",
       "      <th>campaign_name</th>\n",
       "      <th></th>\n",
       "    </tr>\n",
       "  </thead>\n",
       "  <tbody>\n",
       "    <tr>\n",
       "      <th>Aldeas Infantiles SOS ES - Child Violence V3</th>\n",
       "      <td>6</td>\n",
       "    </tr>\n",
       "    <tr>\n",
       "      <th>Aldeas Infantiles SOS de Espana - Bullying - Lead Ads</th>\n",
       "      <td>2</td>\n",
       "    </tr>\n",
       "    <tr>\n",
       "      <th>Ethiopiaid</th>\n",
       "      <td>1</td>\n",
       "    </tr>\n",
       "  </tbody>\n",
       "</table>\n",
       "</div>"
      ],
      "text/plain": [
       "                                                    total\n",
       "campaign_name                                            \n",
       "Aldeas Infantiles SOS ES - Child Violence V3            6\n",
       "Aldeas Infantiles SOS de Espana - Bullying - Le...      2\n",
       "Ethiopiaid                                              1"
      ]
     },
     "execution_count": 13,
     "metadata": {},
     "output_type": "execute_result"
    }
   ],
   "source": [
    "df_daniela=df_daniela.groupby(by=['campaign_name']).sum()\n",
    "df_daniela=df_daniela[[\"total\"]]\n",
    "df_daniela"
   ]
  },
  {
   "cell_type": "markdown",
   "metadata": {},
   "source": [
    "## Sam Drentje"
   ]
  },
  {
   "cell_type": "code",
   "execution_count": 14,
   "metadata": {},
   "outputs": [
    {
     "data": {
      "text/html": [
       "<div>\n",
       "<style scoped>\n",
       "    .dataframe tbody tr th:only-of-type {\n",
       "        vertical-align: middle;\n",
       "    }\n",
       "\n",
       "    .dataframe tbody tr th {\n",
       "        vertical-align: top;\n",
       "    }\n",
       "\n",
       "    .dataframe thead th {\n",
       "        text-align: right;\n",
       "    }\n",
       "</style>\n",
       "<table border=\"1\" class=\"dataframe\">\n",
       "  <thead>\n",
       "    <tr style=\"text-align: right;\">\n",
       "      <th></th>\n",
       "      <th>total</th>\n",
       "    </tr>\n",
       "    <tr>\n",
       "      <th>campaign_name</th>\n",
       "      <th></th>\n",
       "    </tr>\n",
       "  </thead>\n",
       "  <tbody>\n",
       "    <tr>\n",
       "      <th>Stichting DierenLot - steunbetuiging - Lead Ads</th>\n",
       "      <td>2</td>\n",
       "    </tr>\n",
       "  </tbody>\n",
       "</table>\n",
       "</div>"
      ],
      "text/plain": [
       "                                                 total\n",
       "campaign_name                                         \n",
       "Stichting DierenLot - steunbetuiging - Lead Ads      2"
      ]
     },
     "execution_count": 14,
     "metadata": {},
     "output_type": "execute_result"
    }
   ],
   "source": [
    "df_sam=df_sam.groupby(by=['campaign_name']).sum()\n",
    "df_sam=df_sam[[\"total\"]]\n",
    "df_sam"
   ]
  },
  {
   "cell_type": "code",
   "execution_count": 15,
   "metadata": {},
   "outputs": [
    {
     "data": {
      "text/html": [
       "<script src=\"https://cdn.rawgit.com/parente/4c3e6936d0d7a46fd071/raw/65b816fb9bdd3c28b4ddf3af602bfd6015486383/code_toggle.js\"></script>"
      ],
      "text/plain": [
       "<IPython.core.display.HTML object>"
      ]
     },
     "metadata": {},
     "output_type": "display_data"
    }
   ],
   "source": [
    "%%html\n",
    "<script src=\"https://cdn.rawgit.com/parente/4c3e6936d0d7a46fd071/raw/65b816fb9bdd3c28b4ddf3af602bfd6015486383/code_toggle.js\"></script>"
   ]
  }
 ],
 "metadata": {
  "kernelspec": {
   "display_name": "Python 3",
   "language": "python",
   "name": "python3"
  },
  "language_info": {
   "codemirror_mode": {
    "name": "ipython",
    "version": 3
   },
   "file_extension": ".py",
   "mimetype": "text/x-python",
   "name": "python",
   "nbconvert_exporter": "python",
   "pygments_lexer": "ipython3",
   "version": "3.6.5"
  }
 },
 "nbformat": 4,
 "nbformat_minor": 2
}
